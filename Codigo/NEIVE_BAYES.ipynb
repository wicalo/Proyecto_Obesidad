{
 "cells": [
  {
   "cell_type": "markdown",
   "metadata": {},
   "source": []
  },
  {
   "cell_type": "code",
   "execution_count": 13,
   "metadata": {},
   "outputs": [],
   "source": [
    "from sklearn.model_selection import train_test_split\n",
    "from sklearn.naive_bayes import GaussianNB\n",
    "import pandas as pd\n",
    "from sklearn.model_selection import train_test_split\n",
    "from sklearn.compose import ColumnTransformer\n",
    "from sklearn.pipeline import Pipeline\n",
    "from sklearn.preprocessing import OrdinalEncoder, LabelEncoder, MinMaxScaler,OneHotEncoder\n",
    "\n",
    "\n",
    "\n",
    "df=pd.read_csv('../Datos/obesity.csv')\n",
    "\n"
   ]
  },
  {
   "cell_type": "code",
   "execution_count": 14,
   "metadata": {},
   "outputs": [],
   "source": [
    "categories = ['Insufficient_Weight', 'Normal_Weight', 'Overweight_Level_I', 'Overweight_Level_II', 'Obesity_Type_I', 'Obesity_Type_II', 'Obesity_Type_III']\n",
    "objetivo_encoder = OrdinalEncoder(categories=[categories])\n",
    "y=objetivo_encoder.fit(df[['NObeyesdad']])\n",
    "Y=y.transform(df[['NObeyesdad']])\n",
    "X=df.drop(['NObeyesdad'],axis=1)\n",
    "X_train, X_test, Y_train,Y_test = train_test_split(X,Y, test_size=0.2, random_state=0)\n"
   ]
  },
  {
   "cell_type": "code",
   "execution_count": 15,
   "metadata": {},
   "outputs": [
    {
     "name": "stderr",
     "output_type": "stream",
     "text": [
      "/Users/williamcamilolopezvega/anaconda3/envs/ProyectoObesidad/lib/python3.10/site-packages/sklearn/utils/validation.py:1300: DataConversionWarning: A column-vector y was passed when a 1d array was expected. Please change the shape of y to (n_samples, ), for example using ravel().\n",
      "  y = column_or_1d(y, warn=True)\n"
     ]
    }
   ],
   "source": [
    "\n",
    "        \n",
    "variables_nominales = ['Gender', 'family_history_with_overweight', 'FAVC', 'SMOKE', 'SCC', 'MTRANS']\n",
    "variables_ordinales = [ 'NCP', 'CH2O', 'FAF', 'TUE' ]\n",
    "variables_ordinales2 = ['CAEC']\n",
    "variables_ordinales3 = ['CALC']\n",
    "\n",
    "variables_numericas = ['Age']\n",
    "#objetivo = ['NObeyesdad']\n",
    "categorical_encoder = OneHotEncoder(handle_unknown='ignore')\n",
    "\n",
    "categories2=[['no', 'Sometimes', 'Frequently', 'Always']]\n",
    "categorical_encoder = OneHotEncoder(handle_unknown='ignore')\n",
    "\n",
    "numerical_pipe = MinMaxScaler()\n",
    "\n",
    "ordinal_encoder = OrdinalEncoder(handle_unknown='use_encoded_value', unknown_value=-1)\n",
    "\n",
    "\n",
    "ordinal_encoder2 = OrdinalEncoder(categories=categories2,handle_unknown='use_encoded_value', unknown_value=-1)\n",
    "\n",
    "preprocessing = ColumnTransformer(\n",
    "    [\n",
    "        (\"Codificación de Categóricas\", categorical_encoder, variables_nominales),\n",
    "        (\"Transformación de numéricas\", numerical_pipe, variables_numericas),\n",
    "        (\"Codificación de ordinales\",ordinal_encoder,variables_ordinales),\n",
    " #       (\"Codificación de objetivo\",objetivo_encoder,objetivo),\n",
    "       (\"Codificación de ordinales2\",ordinal_encoder2,variables_ordinales2),\n",
    "       (\"Codificación de ordinales3\",ordinal_encoder2,variables_ordinales3),\n",
    "    ],\n",
    "    verbose_feature_names_out=False,\n",
    ")\n",
    "NeiBayes = GaussianNB()\n",
    "\n",
    "\n",
    "flujo = Pipeline(\n",
    "    [\n",
    "        (\"Preprocesamiento\", preprocessing),\n",
    "        (\"Clasificador\", NeiBayes),\n",
    "         \n",
    "    ]\n",
    ")\n",
    "NB=flujo.fit(X_train,Y_train)\n"
   ]
  },
  {
   "cell_type": "markdown",
   "metadata": {},
   "source": []
  },
  {
   "cell_type": "code",
   "execution_count": 16,
   "metadata": {},
   "outputs": [
    {
     "data": {
      "text/plain": [
       "0.49645390070921985"
      ]
     },
     "execution_count": 16,
     "metadata": {},
     "output_type": "execute_result"
    }
   ],
   "source": [
    "NB.score(X_test,Y_test)"
   ]
  }
 ],
 "metadata": {
  "kernelspec": {
   "display_name": "ProyectoObesidad",
   "language": "python",
   "name": "python3"
  },
  "language_info": {
   "codemirror_mode": {
    "name": "ipython",
    "version": 3
   },
   "file_extension": ".py",
   "mimetype": "text/x-python",
   "name": "python",
   "nbconvert_exporter": "python",
   "pygments_lexer": "ipython3",
   "version": "3.10.13"
  }
 },
 "nbformat": 4,
 "nbformat_minor": 2
}
